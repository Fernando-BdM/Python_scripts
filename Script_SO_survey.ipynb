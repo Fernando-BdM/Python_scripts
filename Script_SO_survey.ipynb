{
 "cells": [
  {
   "cell_type": "code",
   "execution_count": 26,
   "metadata": {},
   "outputs": [],
   "source": [
    "import pandas as pd\n",
    "df_2020 = pd.read_csv(\"data/survey_results_2020.csv\")\n",
    "df_2019 = pd.read_csv(\"data/survey_results_2019.csv\")"
   ]
  },
  {
   "cell_type": "code",
   "execution_count": 27,
   "metadata": {},
   "outputs": [],
   "source": [
    "paises_2020 = df_2020[\"Country\"].isin(df_2020[\"Country\"].value_counts().head(50).index)\n",
    "paises_2019 = df_2019[\"Country\"].isin(df_2020[\"Country\"].value_counts().head(50).index)\n",
    "colunas = [\"Country\",\"ConvertedComp\",\"YearsCodePro\"]"
   ]
  },
  {
   "cell_type": "code",
   "execution_count": 28,
   "metadata": {},
   "outputs": [],
   "source": [
    "df_2020 = df_2020.loc[paises_2020,colunas].dropna()\n",
    "df_2019 = df_2019.loc[paises_2019,colunas].dropna()"
   ]
  },
  {
   "cell_type": "code",
   "execution_count": 29,
   "metadata": {},
   "outputs": [],
   "source": [
    "df_2020.to_csv(\"df_2020.csv\")\n",
    "df_2019.to_csv(\"df_2019.csv\")"
   ]
  }
 ],
 "metadata": {
  "kernelspec": {
   "display_name": "Python 3",
   "language": "python",
   "name": "python3"
  },
  "language_info": {
   "codemirror_mode": {
    "name": "ipython",
    "version": 3
   },
   "file_extension": ".py",
   "mimetype": "text/x-python",
   "name": "python",
   "nbconvert_exporter": "python",
   "pygments_lexer": "ipython3",
   "version": "3.7.6"
  }
 },
 "nbformat": 4,
 "nbformat_minor": 4
}
